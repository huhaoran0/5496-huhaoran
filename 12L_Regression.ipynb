{
  "nbformat": 4,
  "nbformat_minor": 0,
  "metadata": {
    "colab": {
      "name": "Lab1_LinReg.ipynb",
      "provenance": [],
      "collapsed_sections": []
    },
    "kernelspec": {
      "name": "python3",
      "display_name": "Python 3"
    }
  },
  "cells": [
    {
      "cell_type": "markdown",
      "metadata": {
        "id": "POmGaH-pGCwm"
      },
      "source": [
        "# Настройка ноутбука\n",
        "\n",
        "Любой исследовательский ноутбук должен начинаться с того, что мы устанавливаем необходимые пакеты для дальнейшей работы - не забывайте этого делать при создании ноутбуков для лабораторных! Делается это вот так:"
      ]
    },
    {
      "cell_type": "code",
      "metadata": {
        "id": "q-UeYBkhGEqO"
      },
      "source": [
        "!pip install -q numpy==1.19.0\n",
        "!pip install -q matplotlib==3.3.0\n",
        "!pip install -q seaborn==0.11.0\n",
        "!pip install -q pandas==1.0.0"
      ],
      "execution_count": 1,
      "outputs": []
    },
    {
      "cell_type": "code",
      "metadata": {
        "id": "9uR9og5nnoAz"
      },
      "source": [
        "# Импорт необходимых модулей \n",
        "import matplotlib\n",
        "import seaborn as sns\n",
        "import matplotlib.pyplot as plt\n",
        "import numpy as np\n",
        "import pandas as pd\n",
        "\n",
        "# Настройки для визуализации\n",
        "# Если используется темная тема - лучше текст сделать белым\n",
        "TEXT_COLOR = 'black'\n",
        "\n",
        "matplotlib.rcParams['figure.figsize'] = (15, 10)\n",
        "matplotlib.rcParams['text.color'] = 'black'\n",
        "matplotlib.rcParams['font.size'] = 14\n",
        "matplotlib.rcParams['axes.labelcolor'] = TEXT_COLOR\n",
        "matplotlib.rcParams['xtick.color'] = TEXT_COLOR\n",
        "matplotlib.rcParams['ytick.color'] = TEXT_COLOR\n",
        "\n",
        "# Зафиксируем состояние случайных чисел\n",
        "RANDOM_STATE = 42\n",
        "np.random.seed(RANDOM_STATE)"
      ],
      "execution_count": 2,
      "outputs": []
    },
    {
      "cell_type": "markdown",
      "metadata": {
        "id": "AR7dYaQwWVPN"
      },
      "source": [
        "# Линейная регрессия"
      ]
    },
    {
      "cell_type": "markdown",
      "metadata": {
        "id": "HDlYk72EBIHz"
      },
      "source": [
        "Это наша первая работа, в которой мы коснемся реальных (ну почти) данных! Представльте себе, что к нам пришел интересующийся человек и хочет автоматически устанавливать цены на дома! И вот чудо, у него есть данные за последнее время, которые показывают пример того, как цены были установлены! Давайте постараемся помочь с этой нелегкой задачкой!\n",
        "\n",
        "После того, как мы на практике познакомились с линейной регрессией - самое время применить ее на реальных данных. Для разработки и оценки будем использовать инструменты библиотеки `scikit-learn` (или сокращенно `sklearn`).\n",
        "\n",
        "[Официальный сайт](https://scikit-learn.org/stable/) и [документация по API](https://scikit-learn.org/stable/modules/classes.html) (Application Program Interface - функции библиотеки) дают огромное количество полезной информации."
      ]
    },
    {
      "cell_type": "markdown",
      "metadata": {
        "id": "gQzSgYoLDNls"
      },
      "source": [
        "# Базовый анализ данных\n",
        "\n",
        "В базовом анализе можно отметить следующие задачи:\n",
        "- загрузка данных;\n",
        "- ознакомление с данными, определение смысла переменных;\n",
        "- поиск и устранение пропусков в данных;\n",
        "- удаление неинформативных признаков;\n",
        "- преобразование признаков к числовому виду (например, текст, аудио или картинка переводятся в числовое представление).\n",
        "\n",
        "По сути главной целью базового анализа является минимальная подготовка данных для построения базовой модели (baseline). Минимальная подготовка - все данные привести к числовому виду, так как модели могут работать только с числовыми матрицами без пропусков."
      ]
    },
    {
      "cell_type": "markdown",
      "metadata": {
        "id": "tlohmlyAh5Ey"
      },
      "source": [
        "## Загрузка данных"
      ]
    },
    {
      "cell_type": "markdown",
      "metadata": {
        "id": "muPehow-DSay"
      },
      "source": [
        "Для построения модели будет взят набор данных Boston House-Price, который представляет собой информацию о домах в Бостоне. Данный набор поставляется вместе с фреймворком `scikit-learn` и загружается следующим образом. Информацию о нем можно найти на официальном сайте https://scikit-learn.org/stable/datasets/index.html#boston-dataset."
      ]
    },
    {
      "cell_type": "code",
      "metadata": {
        "id": "rC281yMxkzbe",
        "colab": {
          "base_uri": "https://localhost:8080/"
        },
        "outputId": "b32244df-7f2a-4ea1-b571-875049566a8c"
      },
      "source": [
        "from sklearn.datasets import load_boston\n",
        "\n",
        "boston_data = load_boston()\n",
        "print(type(boston_data))"
      ],
      "execution_count": 3,
      "outputs": [
        {
          "output_type": "stream",
          "text": [
            "<class 'sklearn.utils.Bunch'>\n"
          ],
          "name": "stdout"
        }
      ]
    },
    {
      "cell_type": "markdown",
      "metadata": {
        "id": "02AT0H0RGEMY"
      },
      "source": [
        "Переменная `boston_data` является типом (`Bunch`), похожим на тип `dict`, который хранит данные под ключами. В описании можно найти следующие важные ключи:\n",
        "- `DESCR` - описание набора данных;\n",
        "- `data` - данные (признаки) в формате матрицы 2D с размерностью [кол-во примеров, кол-во признаков];\n",
        "- `feature_names` - названия признаков;\n",
        "- `target` - значения целевой переменной для предсказания в формате вектора 1D по кол-ву примеров.\n",
        "\n",
        "> Описание на сайте дает много дополнительной информации, но полученные ключи уже предоставляют необходимую информацию, так как `sklearn` хранит данные в собственном формате. После того, как будут получены данные, лучшей практикой является провести самостоятельный анализ для исключения возможных ошибок в описании.\n"
      ]
    },
    {
      "cell_type": "markdown",
      "metadata": {
        "id": "HI9eZpOVHT0q"
      },
      "source": [
        "Начнем с получения описания набора данных."
      ]
    },
    {
      "cell_type": "code",
      "metadata": {
        "id": "UO7Hu2EaGBgo",
        "colab": {
          "base_uri": "https://localhost:8080/"
        },
        "outputId": "ab578a17-e41e-4f52-e3e2-4241e39bc7fe"
      },
      "source": [
        "print(boston_data['DESCR'])"
      ],
      "execution_count": 4,
      "outputs": [
        {
          "output_type": "stream",
          "text": [
            ".. _boston_dataset:\n",
            "\n",
            "Boston house prices dataset\n",
            "---------------------------\n",
            "\n",
            "**Data Set Characteristics:**  \n",
            "\n",
            "    :Number of Instances: 506 \n",
            "\n",
            "    :Number of Attributes: 13 numeric/categorical predictive. Median Value (attribute 14) is usually the target.\n",
            "\n",
            "    :Attribute Information (in order):\n",
            "        - CRIM     per capita crime rate by town\n",
            "        - ZN       proportion of residential land zoned for lots over 25,000 sq.ft.\n",
            "        - INDUS    proportion of non-retail business acres per town\n",
            "        - CHAS     Charles River dummy variable (= 1 if tract bounds river; 0 otherwise)\n",
            "        - NOX      nitric oxides concentration (parts per 10 million)\n",
            "        - RM       average number of rooms per dwelling\n",
            "        - AGE      proportion of owner-occupied units built prior to 1940\n",
            "        - DIS      weighted distances to five Boston employment centres\n",
            "        - RAD      index of accessibility to radial highways\n",
            "        - TAX      full-value property-tax rate per $10,000\n",
            "        - PTRATIO  pupil-teacher ratio by town\n",
            "        - B        1000(Bk - 0.63)^2 where Bk is the proportion of blacks by town\n",
            "        - LSTAT    % lower status of the population\n",
            "        - MEDV     Median value of owner-occupied homes in $1000's\n",
            "\n",
            "    :Missing Attribute Values: None\n",
            "\n",
            "    :Creator: Harrison, D. and Rubinfeld, D.L.\n",
            "\n",
            "This is a copy of UCI ML housing dataset.\n",
            "https://archive.ics.uci.edu/ml/machine-learning-databases/housing/\n",
            "\n",
            "\n",
            "This dataset was taken from the StatLib library which is maintained at Carnegie Mellon University.\n",
            "\n",
            "The Boston house-price data of Harrison, D. and Rubinfeld, D.L. 'Hedonic\n",
            "prices and the demand for clean air', J. Environ. Economics & Management,\n",
            "vol.5, 81-102, 1978.   Used in Belsley, Kuh & Welsch, 'Regression diagnostics\n",
            "...', Wiley, 1980.   N.B. Various transformations are used in the table on\n",
            "pages 244-261 of the latter.\n",
            "\n",
            "The Boston house-price data has been used in many machine learning papers that address regression\n",
            "problems.   \n",
            "     \n",
            ".. topic:: References\n",
            "\n",
            "   - Belsley, Kuh & Welsch, 'Regression diagnostics: Identifying Influential Data and Sources of Collinearity', Wiley, 1980. 244-261.\n",
            "   - Quinlan,R. (1993). Combining Instance-Based and Model-Based Learning. In Proceedings on the Tenth International Conference of Machine Learning, 236-243, University of Massachusetts, Amherst. Morgan Kaufmann.\n",
            "\n"
          ],
          "name": "stdout"
        }
      ]
    },
    {
      "cell_type": "markdown",
      "metadata": {
        "id": "qslkDNJUIXgO"
      },
      "source": [
        "Описание в загруженных данных во многом повторяет описание с сайта, но наиболее важными данными являются описания признаков в данных. \n",
        "\n",
        "> Одной из важных особенностей работы с данными является их \"понимание\". Без понимания признаков и целевой переменной анализ данных теряет возможность применения некоторых методик, которые позволяют обработать данные."
      ]
    },
    {
      "cell_type": "markdown",
      "metadata": {
        "id": "hCSkyuB-Ighh"
      },
      "source": [
        "В данном датасете мы видим различные признаки, которые так или иначе описывают жилье. Всего заявлено 13 признаков (независимых переменных). Целевая переменная является медианным значение стоимости жилья."
      ]
    },
    {
      "cell_type": "markdown",
      "metadata": {
        "id": "N7wiVtMPJOK0"
      },
      "source": [
        "Проверим размерности матрицы признаков и вектора предсказываемых значений. Так как они имеет тип `ndarray` (массив фреймворка `numpy`), то мы можем воспользоваться членом класса `.shape`, который является кортежем с элементами в виде размерности массива. Также, проверим тип данных через встроенную функцию Python - `type()`."
      ]
    },
    {
      "cell_type": "code",
      "metadata": {
        "id": "EFptO510JVOm",
        "colab": {
          "base_uri": "https://localhost:8080/"
        },
        "outputId": "93fbead2-79ab-4fd9-996f-a8043988af00"
      },
      "source": [
        "feature_data = boston_data['data']\n",
        "feature_names = boston_data['feature_names']\n",
        "target_data = boston_data['target']\n",
        "\n",
        "print(type(feature_data))\n",
        "print(type(target_data))\n",
        "\n",
        "print(feature_data.shape)\n",
        "print(target_data.shape)"
      ],
      "execution_count": 5,
      "outputs": [
        {
          "output_type": "stream",
          "text": [
            "<class 'numpy.ndarray'>\n",
            "<class 'numpy.ndarray'>\n",
            "(506, 13)\n",
            "(506,)\n"
          ],
          "name": "stdout"
        }
      ]
    },
    {
      "cell_type": "markdown",
      "metadata": {
        "id": "DsF5NW4LJtRF"
      },
      "source": [
        "Отлично, размерности и тип соответствуют описанию. Теперь посмотрим, что содержит последний ключ."
      ]
    },
    {
      "cell_type": "code",
      "metadata": {
        "id": "BMh2LnHhXI7b",
        "colab": {
          "base_uri": "https://localhost:8080/"
        },
        "outputId": "f3a25f1e-e155-416a-d002-8df77e8608ba"
      },
      "source": [
        "feature_names"
      ],
      "execution_count": 6,
      "outputs": [
        {
          "output_type": "execute_result",
          "data": {
            "text/plain": [
              "array(['CRIM', 'ZN', 'INDUS', 'CHAS', 'NOX', 'RM', 'AGE', 'DIS', 'RAD',\n",
              "       'TAX', 'PTRATIO', 'B', 'LSTAT'], dtype='<U7')"
            ]
          },
          "metadata": {
            "tags": []
          },
          "execution_count": 6
        }
      ]
    },
    {
      "cell_type": "markdown",
      "metadata": {
        "id": "R5MI5hV0XQTe"
      },
      "source": [
        "Названия признаков соответсвуют описанию."
      ]
    },
    {
      "cell_type": "markdown",
      "metadata": {
        "id": "qfNb1BBmI2aL"
      },
      "source": [
        "Для дальнейшей работы с данными рекомендуется перевести данные в формат фреймворка `pandas`, так как данные имеют матричный формат и работа в данном фреймворке позволит удобно организовать анализ."
      ]
    },
    {
      "cell_type": "code",
      "metadata": {
        "id": "-8LyvABJGCxV",
        "colab": {
          "base_uri": "https://localhost:8080/",
          "height": 204
        },
        "outputId": "bb847c5b-fe1b-43a3-d0d6-54e34d0dbca3"
      },
      "source": [
        "df = pd.DataFrame(feature_data, columns=boston_data['feature_names'])\n",
        "\n",
        "df.head()"
      ],
      "execution_count": 7,
      "outputs": [
        {
          "output_type": "execute_result",
          "data": {
            "text/html": [
              "<div>\n",
              "<style scoped>\n",
              "    .dataframe tbody tr th:only-of-type {\n",
              "        vertical-align: middle;\n",
              "    }\n",
              "\n",
              "    .dataframe tbody tr th {\n",
              "        vertical-align: top;\n",
              "    }\n",
              "\n",
              "    .dataframe thead th {\n",
              "        text-align: right;\n",
              "    }\n",
              "</style>\n",
              "<table border=\"1\" class=\"dataframe\">\n",
              "  <thead>\n",
              "    <tr style=\"text-align: right;\">\n",
              "      <th></th>\n",
              "      <th>CRIM</th>\n",
              "      <th>ZN</th>\n",
              "      <th>INDUS</th>\n",
              "      <th>CHAS</th>\n",
              "      <th>NOX</th>\n",
              "      <th>RM</th>\n",
              "      <th>AGE</th>\n",
              "      <th>DIS</th>\n",
              "      <th>RAD</th>\n",
              "      <th>TAX</th>\n",
              "      <th>PTRATIO</th>\n",
              "      <th>B</th>\n",
              "      <th>LSTAT</th>\n",
              "    </tr>\n",
              "  </thead>\n",
              "  <tbody>\n",
              "    <tr>\n",
              "      <th>0</th>\n",
              "      <td>0.00632</td>\n",
              "      <td>18.0</td>\n",
              "      <td>2.31</td>\n",
              "      <td>0.0</td>\n",
              "      <td>0.538</td>\n",
              "      <td>6.575</td>\n",
              "      <td>65.2</td>\n",
              "      <td>4.0900</td>\n",
              "      <td>1.0</td>\n",
              "      <td>296.0</td>\n",
              "      <td>15.3</td>\n",
              "      <td>396.90</td>\n",
              "      <td>4.98</td>\n",
              "    </tr>\n",
              "    <tr>\n",
              "      <th>1</th>\n",
              "      <td>0.02731</td>\n",
              "      <td>0.0</td>\n",
              "      <td>7.07</td>\n",
              "      <td>0.0</td>\n",
              "      <td>0.469</td>\n",
              "      <td>6.421</td>\n",
              "      <td>78.9</td>\n",
              "      <td>4.9671</td>\n",
              "      <td>2.0</td>\n",
              "      <td>242.0</td>\n",
              "      <td>17.8</td>\n",
              "      <td>396.90</td>\n",
              "      <td>9.14</td>\n",
              "    </tr>\n",
              "    <tr>\n",
              "      <th>2</th>\n",
              "      <td>0.02729</td>\n",
              "      <td>0.0</td>\n",
              "      <td>7.07</td>\n",
              "      <td>0.0</td>\n",
              "      <td>0.469</td>\n",
              "      <td>7.185</td>\n",
              "      <td>61.1</td>\n",
              "      <td>4.9671</td>\n",
              "      <td>2.0</td>\n",
              "      <td>242.0</td>\n",
              "      <td>17.8</td>\n",
              "      <td>392.83</td>\n",
              "      <td>4.03</td>\n",
              "    </tr>\n",
              "    <tr>\n",
              "      <th>3</th>\n",
              "      <td>0.03237</td>\n",
              "      <td>0.0</td>\n",
              "      <td>2.18</td>\n",
              "      <td>0.0</td>\n",
              "      <td>0.458</td>\n",
              "      <td>6.998</td>\n",
              "      <td>45.8</td>\n",
              "      <td>6.0622</td>\n",
              "      <td>3.0</td>\n",
              "      <td>222.0</td>\n",
              "      <td>18.7</td>\n",
              "      <td>394.63</td>\n",
              "      <td>2.94</td>\n",
              "    </tr>\n",
              "    <tr>\n",
              "      <th>4</th>\n",
              "      <td>0.06905</td>\n",
              "      <td>0.0</td>\n",
              "      <td>2.18</td>\n",
              "      <td>0.0</td>\n",
              "      <td>0.458</td>\n",
              "      <td>7.147</td>\n",
              "      <td>54.2</td>\n",
              "      <td>6.0622</td>\n",
              "      <td>3.0</td>\n",
              "      <td>222.0</td>\n",
              "      <td>18.7</td>\n",
              "      <td>396.90</td>\n",
              "      <td>5.33</td>\n",
              "    </tr>\n",
              "  </tbody>\n",
              "</table>\n",
              "</div>"
            ],
            "text/plain": [
              "      CRIM    ZN  INDUS  CHAS    NOX  ...  RAD    TAX  PTRATIO       B  LSTAT\n",
              "0  0.00632  18.0   2.31   0.0  0.538  ...  1.0  296.0     15.3  396.90   4.98\n",
              "1  0.02731   0.0   7.07   0.0  0.469  ...  2.0  242.0     17.8  396.90   9.14\n",
              "2  0.02729   0.0   7.07   0.0  0.469  ...  2.0  242.0     17.8  392.83   4.03\n",
              "3  0.03237   0.0   2.18   0.0  0.458  ...  3.0  222.0     18.7  394.63   2.94\n",
              "4  0.06905   0.0   2.18   0.0  0.458  ...  3.0  222.0     18.7  396.90   5.33\n",
              "\n",
              "[5 rows x 13 columns]"
            ]
          },
          "metadata": {
            "tags": []
          },
          "execution_count": 7
        }
      ]
    },
    {
      "cell_type": "markdown",
      "metadata": {
        "id": "M_oTCsKEKdGR"
      },
      "source": [
        "Для дальнейшего анализа включим значения целевых переменных в `DataFrame` под собственным именем."
      ]
    },
    {
      "cell_type": "code",
      "metadata": {
        "id": "OTSt4MhtJK3D",
        "colab": {
          "base_uri": "https://localhost:8080/",
          "height": 204
        },
        "outputId": "3e7d8d21-bcb6-487a-f11f-2c052aefd195"
      },
      "source": [
        "df['PRICE'] = target_data\n",
        "\n",
        "df.head()"
      ],
      "execution_count": 8,
      "outputs": [
        {
          "output_type": "execute_result",
          "data": {
            "text/html": [
              "<div>\n",
              "<style scoped>\n",
              "    .dataframe tbody tr th:only-of-type {\n",
              "        vertical-align: middle;\n",
              "    }\n",
              "\n",
              "    .dataframe tbody tr th {\n",
              "        vertical-align: top;\n",
              "    }\n",
              "\n",
              "    .dataframe thead th {\n",
              "        text-align: right;\n",
              "    }\n",
              "</style>\n",
              "<table border=\"1\" class=\"dataframe\">\n",
              "  <thead>\n",
              "    <tr style=\"text-align: right;\">\n",
              "      <th></th>\n",
              "      <th>CRIM</th>\n",
              "      <th>ZN</th>\n",
              "      <th>INDUS</th>\n",
              "      <th>CHAS</th>\n",
              "      <th>NOX</th>\n",
              "      <th>RM</th>\n",
              "      <th>AGE</th>\n",
              "      <th>DIS</th>\n",
              "      <th>RAD</th>\n",
              "      <th>TAX</th>\n",
              "      <th>PTRATIO</th>\n",
              "      <th>B</th>\n",
              "      <th>LSTAT</th>\n",
              "      <th>PRICE</th>\n",
              "    </tr>\n",
              "  </thead>\n",
              "  <tbody>\n",
              "    <tr>\n",
              "      <th>0</th>\n",
              "      <td>0.00632</td>\n",
              "      <td>18.0</td>\n",
              "      <td>2.31</td>\n",
              "      <td>0.0</td>\n",
              "      <td>0.538</td>\n",
              "      <td>6.575</td>\n",
              "      <td>65.2</td>\n",
              "      <td>4.0900</td>\n",
              "      <td>1.0</td>\n",
              "      <td>296.0</td>\n",
              "      <td>15.3</td>\n",
              "      <td>396.90</td>\n",
              "      <td>4.98</td>\n",
              "      <td>24.0</td>\n",
              "    </tr>\n",
              "    <tr>\n",
              "      <th>1</th>\n",
              "      <td>0.02731</td>\n",
              "      <td>0.0</td>\n",
              "      <td>7.07</td>\n",
              "      <td>0.0</td>\n",
              "      <td>0.469</td>\n",
              "      <td>6.421</td>\n",
              "      <td>78.9</td>\n",
              "      <td>4.9671</td>\n",
              "      <td>2.0</td>\n",
              "      <td>242.0</td>\n",
              "      <td>17.8</td>\n",
              "      <td>396.90</td>\n",
              "      <td>9.14</td>\n",
              "      <td>21.6</td>\n",
              "    </tr>\n",
              "    <tr>\n",
              "      <th>2</th>\n",
              "      <td>0.02729</td>\n",
              "      <td>0.0</td>\n",
              "      <td>7.07</td>\n",
              "      <td>0.0</td>\n",
              "      <td>0.469</td>\n",
              "      <td>7.185</td>\n",
              "      <td>61.1</td>\n",
              "      <td>4.9671</td>\n",
              "      <td>2.0</td>\n",
              "      <td>242.0</td>\n",
              "      <td>17.8</td>\n",
              "      <td>392.83</td>\n",
              "      <td>4.03</td>\n",
              "      <td>34.7</td>\n",
              "    </tr>\n",
              "    <tr>\n",
              "      <th>3</th>\n",
              "      <td>0.03237</td>\n",
              "      <td>0.0</td>\n",
              "      <td>2.18</td>\n",
              "      <td>0.0</td>\n",
              "      <td>0.458</td>\n",
              "      <td>6.998</td>\n",
              "      <td>45.8</td>\n",
              "      <td>6.0622</td>\n",
              "      <td>3.0</td>\n",
              "      <td>222.0</td>\n",
              "      <td>18.7</td>\n",
              "      <td>394.63</td>\n",
              "      <td>2.94</td>\n",
              "      <td>33.4</td>\n",
              "    </tr>\n",
              "    <tr>\n",
              "      <th>4</th>\n",
              "      <td>0.06905</td>\n",
              "      <td>0.0</td>\n",
              "      <td>2.18</td>\n",
              "      <td>0.0</td>\n",
              "      <td>0.458</td>\n",
              "      <td>7.147</td>\n",
              "      <td>54.2</td>\n",
              "      <td>6.0622</td>\n",
              "      <td>3.0</td>\n",
              "      <td>222.0</td>\n",
              "      <td>18.7</td>\n",
              "      <td>396.90</td>\n",
              "      <td>5.33</td>\n",
              "      <td>36.2</td>\n",
              "    </tr>\n",
              "  </tbody>\n",
              "</table>\n",
              "</div>"
            ],
            "text/plain": [
              "      CRIM    ZN  INDUS  CHAS    NOX  ...    TAX  PTRATIO       B  LSTAT  PRICE\n",
              "0  0.00632  18.0   2.31   0.0  0.538  ...  296.0     15.3  396.90   4.98   24.0\n",
              "1  0.02731   0.0   7.07   0.0  0.469  ...  242.0     17.8  396.90   9.14   21.6\n",
              "2  0.02729   0.0   7.07   0.0  0.469  ...  242.0     17.8  392.83   4.03   34.7\n",
              "3  0.03237   0.0   2.18   0.0  0.458  ...  222.0     18.7  394.63   2.94   33.4\n",
              "4  0.06905   0.0   2.18   0.0  0.458  ...  222.0     18.7  396.90   5.33   36.2\n",
              "\n",
              "[5 rows x 14 columns]"
            ]
          },
          "metadata": {
            "tags": []
          },
          "execution_count": 8
        }
      ]
    },
    {
      "cell_type": "markdown",
      "metadata": {
        "id": "yqeLwJn9a1Ld"
      },
      "source": [
        "## Знакомство с данными"
      ]
    },
    {
      "cell_type": "markdown",
      "metadata": {
        "id": "OFXewMJla-1H"
      },
      "source": [
        "В ходе предобработки данных делается подготовка данных для дальнейшего использования модели. Наиболее частые причины подготовки табличных данных следующие:\n",
        "- Пропуски данных в некоторых колонках (признаках)\n",
        "- Очистка от выбросов в данных\n",
        "- Исправление распределений, отличных от нормальных"
      ]
    },
    {
      "cell_type": "markdown",
      "metadata": {
        "id": "KIG_mkFJSJH6"
      },
      "source": [
        "Выведем базовую информацию по данным. С помощью методов `info()` и `describe()`."
      ]
    },
    {
      "cell_type": "code",
      "metadata": {
        "id": "QRTkGhW2R316",
        "colab": {
          "base_uri": "https://localhost:8080/"
        },
        "outputId": "d27bb298-30b3-48c4-d9e0-df7787995742"
      },
      "source": [
        "df.info()"
      ],
      "execution_count": 9,
      "outputs": [
        {
          "output_type": "stream",
          "text": [
            "<class 'pandas.core.frame.DataFrame'>\n",
            "RangeIndex: 506 entries, 0 to 505\n",
            "Data columns (total 14 columns):\n",
            " #   Column   Non-Null Count  Dtype  \n",
            "---  ------   --------------  -----  \n",
            " 0   CRIM     506 non-null    float64\n",
            " 1   ZN       506 non-null    float64\n",
            " 2   INDUS    506 non-null    float64\n",
            " 3   CHAS     506 non-null    float64\n",
            " 4   NOX      506 non-null    float64\n",
            " 5   RM       506 non-null    float64\n",
            " 6   AGE      506 non-null    float64\n",
            " 7   DIS      506 non-null    float64\n",
            " 8   RAD      506 non-null    float64\n",
            " 9   TAX      506 non-null    float64\n",
            " 10  PTRATIO  506 non-null    float64\n",
            " 11  B        506 non-null    float64\n",
            " 12  LSTAT    506 non-null    float64\n",
            " 13  PRICE    506 non-null    float64\n",
            "dtypes: float64(14)\n",
            "memory usage: 55.5 KB\n"
          ],
          "name": "stdout"
        }
      ]
    },
    {
      "cell_type": "code",
      "metadata": {
        "id": "qoGZu4PlSNG5",
        "colab": {
          "base_uri": "https://localhost:8080/",
          "height": 483
        },
        "outputId": "17b2dc3b-8fb6-4831-d1e7-b03d83d3009c"
      },
      "source": [
        "df.describe().T"
      ],
      "execution_count": 10,
      "outputs": [
        {
          "output_type": "execute_result",
          "data": {
            "text/html": [
              "<div>\n",
              "<style scoped>\n",
              "    .dataframe tbody tr th:only-of-type {\n",
              "        vertical-align: middle;\n",
              "    }\n",
              "\n",
              "    .dataframe tbody tr th {\n",
              "        vertical-align: top;\n",
              "    }\n",
              "\n",
              "    .dataframe thead th {\n",
              "        text-align: right;\n",
              "    }\n",
              "</style>\n",
              "<table border=\"1\" class=\"dataframe\">\n",
              "  <thead>\n",
              "    <tr style=\"text-align: right;\">\n",
              "      <th></th>\n",
              "      <th>count</th>\n",
              "      <th>mean</th>\n",
              "      <th>std</th>\n",
              "      <th>min</th>\n",
              "      <th>25%</th>\n",
              "      <th>50%</th>\n",
              "      <th>75%</th>\n",
              "      <th>max</th>\n",
              "    </tr>\n",
              "  </thead>\n",
              "  <tbody>\n",
              "    <tr>\n",
              "      <th>CRIM</th>\n",
              "      <td>506.0</td>\n",
              "      <td>3.613524</td>\n",
              "      <td>8.601545</td>\n",
              "      <td>0.00632</td>\n",
              "      <td>0.082045</td>\n",
              "      <td>0.25651</td>\n",
              "      <td>3.677083</td>\n",
              "      <td>88.9762</td>\n",
              "    </tr>\n",
              "    <tr>\n",
              "      <th>ZN</th>\n",
              "      <td>506.0</td>\n",
              "      <td>11.363636</td>\n",
              "      <td>23.322453</td>\n",
              "      <td>0.00000</td>\n",
              "      <td>0.000000</td>\n",
              "      <td>0.00000</td>\n",
              "      <td>12.500000</td>\n",
              "      <td>100.0000</td>\n",
              "    </tr>\n",
              "    <tr>\n",
              "      <th>INDUS</th>\n",
              "      <td>506.0</td>\n",
              "      <td>11.136779</td>\n",
              "      <td>6.860353</td>\n",
              "      <td>0.46000</td>\n",
              "      <td>5.190000</td>\n",
              "      <td>9.69000</td>\n",
              "      <td>18.100000</td>\n",
              "      <td>27.7400</td>\n",
              "    </tr>\n",
              "    <tr>\n",
              "      <th>CHAS</th>\n",
              "      <td>506.0</td>\n",
              "      <td>0.069170</td>\n",
              "      <td>0.253994</td>\n",
              "      <td>0.00000</td>\n",
              "      <td>0.000000</td>\n",
              "      <td>0.00000</td>\n",
              "      <td>0.000000</td>\n",
              "      <td>1.0000</td>\n",
              "    </tr>\n",
              "    <tr>\n",
              "      <th>NOX</th>\n",
              "      <td>506.0</td>\n",
              "      <td>0.554695</td>\n",
              "      <td>0.115878</td>\n",
              "      <td>0.38500</td>\n",
              "      <td>0.449000</td>\n",
              "      <td>0.53800</td>\n",
              "      <td>0.624000</td>\n",
              "      <td>0.8710</td>\n",
              "    </tr>\n",
              "    <tr>\n",
              "      <th>RM</th>\n",
              "      <td>506.0</td>\n",
              "      <td>6.284634</td>\n",
              "      <td>0.702617</td>\n",
              "      <td>3.56100</td>\n",
              "      <td>5.885500</td>\n",
              "      <td>6.20850</td>\n",
              "      <td>6.623500</td>\n",
              "      <td>8.7800</td>\n",
              "    </tr>\n",
              "    <tr>\n",
              "      <th>AGE</th>\n",
              "      <td>506.0</td>\n",
              "      <td>68.574901</td>\n",
              "      <td>28.148861</td>\n",
              "      <td>2.90000</td>\n",
              "      <td>45.025000</td>\n",
              "      <td>77.50000</td>\n",
              "      <td>94.075000</td>\n",
              "      <td>100.0000</td>\n",
              "    </tr>\n",
              "    <tr>\n",
              "      <th>DIS</th>\n",
              "      <td>506.0</td>\n",
              "      <td>3.795043</td>\n",
              "      <td>2.105710</td>\n",
              "      <td>1.12960</td>\n",
              "      <td>2.100175</td>\n",
              "      <td>3.20745</td>\n",
              "      <td>5.188425</td>\n",
              "      <td>12.1265</td>\n",
              "    </tr>\n",
              "    <tr>\n",
              "      <th>RAD</th>\n",
              "      <td>506.0</td>\n",
              "      <td>9.549407</td>\n",
              "      <td>8.707259</td>\n",
              "      <td>1.00000</td>\n",
              "      <td>4.000000</td>\n",
              "      <td>5.00000</td>\n",
              "      <td>24.000000</td>\n",
              "      <td>24.0000</td>\n",
              "    </tr>\n",
              "    <tr>\n",
              "      <th>TAX</th>\n",
              "      <td>506.0</td>\n",
              "      <td>408.237154</td>\n",
              "      <td>168.537116</td>\n",
              "      <td>187.00000</td>\n",
              "      <td>279.000000</td>\n",
              "      <td>330.00000</td>\n",
              "      <td>666.000000</td>\n",
              "      <td>711.0000</td>\n",
              "    </tr>\n",
              "    <tr>\n",
              "      <th>PTRATIO</th>\n",
              "      <td>506.0</td>\n",
              "      <td>18.455534</td>\n",
              "      <td>2.164946</td>\n",
              "      <td>12.60000</td>\n",
              "      <td>17.400000</td>\n",
              "      <td>19.05000</td>\n",
              "      <td>20.200000</td>\n",
              "      <td>22.0000</td>\n",
              "    </tr>\n",
              "    <tr>\n",
              "      <th>B</th>\n",
              "      <td>506.0</td>\n",
              "      <td>356.674032</td>\n",
              "      <td>91.294864</td>\n",
              "      <td>0.32000</td>\n",
              "      <td>375.377500</td>\n",
              "      <td>391.44000</td>\n",
              "      <td>396.225000</td>\n",
              "      <td>396.9000</td>\n",
              "    </tr>\n",
              "    <tr>\n",
              "      <th>LSTAT</th>\n",
              "      <td>506.0</td>\n",
              "      <td>12.653063</td>\n",
              "      <td>7.141062</td>\n",
              "      <td>1.73000</td>\n",
              "      <td>6.950000</td>\n",
              "      <td>11.36000</td>\n",
              "      <td>16.955000</td>\n",
              "      <td>37.9700</td>\n",
              "    </tr>\n",
              "    <tr>\n",
              "      <th>PRICE</th>\n",
              "      <td>506.0</td>\n",
              "      <td>22.532806</td>\n",
              "      <td>9.197104</td>\n",
              "      <td>5.00000</td>\n",
              "      <td>17.025000</td>\n",
              "      <td>21.20000</td>\n",
              "      <td>25.000000</td>\n",
              "      <td>50.0000</td>\n",
              "    </tr>\n",
              "  </tbody>\n",
              "</table>\n",
              "</div>"
            ],
            "text/plain": [
              "         count        mean         std  ...        50%         75%       max\n",
              "CRIM     506.0    3.613524    8.601545  ...    0.25651    3.677083   88.9762\n",
              "ZN       506.0   11.363636   23.322453  ...    0.00000   12.500000  100.0000\n",
              "INDUS    506.0   11.136779    6.860353  ...    9.69000   18.100000   27.7400\n",
              "CHAS     506.0    0.069170    0.253994  ...    0.00000    0.000000    1.0000\n",
              "NOX      506.0    0.554695    0.115878  ...    0.53800    0.624000    0.8710\n",
              "RM       506.0    6.284634    0.702617  ...    6.20850    6.623500    8.7800\n",
              "AGE      506.0   68.574901   28.148861  ...   77.50000   94.075000  100.0000\n",
              "DIS      506.0    3.795043    2.105710  ...    3.20745    5.188425   12.1265\n",
              "RAD      506.0    9.549407    8.707259  ...    5.00000   24.000000   24.0000\n",
              "TAX      506.0  408.237154  168.537116  ...  330.00000  666.000000  711.0000\n",
              "PTRATIO  506.0   18.455534    2.164946  ...   19.05000   20.200000   22.0000\n",
              "B        506.0  356.674032   91.294864  ...  391.44000  396.225000  396.9000\n",
              "LSTAT    506.0   12.653063    7.141062  ...   11.36000   16.955000   37.9700\n",
              "PRICE    506.0   22.532806    9.197104  ...   21.20000   25.000000   50.0000\n",
              "\n",
              "[14 rows x 8 columns]"
            ]
          },
          "metadata": {
            "tags": []
          },
          "execution_count": 10
        }
      ]
    },
    {
      "cell_type": "markdown",
      "metadata": {
        "id": "wM1DWm85GuFg"
      },
      "source": [
        "## Определение наличия пропусков"
      ]
    },
    {
      "cell_type": "markdown",
      "metadata": {
        "id": "dF2u7RGaUDAe"
      },
      "source": [
        "Из результатов метода `info()` видно, что данные не имеют пропусков (количество non-null равно количеству записей в каждом признаке) - это важно, так как не требуется дополнять данные или исключать записи."
      ]
    },
    {
      "cell_type": "markdown",
      "metadata": {
        "id": "mnVAuUSIXrmg"
      },
      "source": [
        "## Проверка наличия дубликатов\n",
        "\n",
        "Одним из важных этапов является проверка данных на наличие одинаковых строк (записей). Поэчему это важно? Ответ прост! При разделении данные на обучение/тест или других делениях дубликаты могут попасть как в одну кучу, так и в другую. Таким образом происходит leak информации, то есть модель обучается на данных, которые есть в тесте. Это очень плохо и такое надо всегда исключать! Проверим наши:"
      ]
    },
    {
      "cell_type": "code",
      "metadata": {
        "id": "r6gQIhiiXr_Q",
        "colab": {
          "base_uri": "https://localhost:8080/"
        },
        "outputId": "b2676e63-c743-4f84-e6f7-5ad78878083b"
      },
      "source": [
        "# Данный метод возвращает маску дубликатов\n",
        "#   Если запись - дубликат, то в маске она будет True\n",
        "# Получить DataFrame без дубликатов можно утем применения инвертированной маски\n",
        "dup_mask = df.duplicated()\n",
        "\n",
        "# А мы просто посмотрим сумму элементов и так убедимся, что дубликатов нет!\n",
        "dup_mask.sum()"
      ],
      "execution_count": 11,
      "outputs": [
        {
          "output_type": "execute_result",
          "data": {
            "text/plain": [
              "0"
            ]
          },
          "metadata": {
            "tags": []
          },
          "execution_count": 11
        }
      ]
    },
    {
      "cell_type": "markdown",
      "metadata": {
        "id": "gg-jKsJBiLns"
      },
      "source": [
        "## Проверка и определение типов признаков"
      ]
    },
    {
      "cell_type": "markdown",
      "metadata": {
        "id": "YJaFL4iCLUOq"
      },
      "source": [
        "Помимо базовых функций также важно выделить разделение на типы признаков. Выделяют следующие основные типы признаков:\n",
        "- Категориальные:\n",
        "    - Номинальные - значения признаков ограничены группой возможных значений (красный/синий/зеленый);\n",
        "    - Бинарные - те же номинальные, но всего две группы (Да/Нет, Правда/Ложь);\n",
        "    - Последовательные - те же номинальные, но еще группы имеют порядок (плохой/хороший/отличный);\n",
        "- Численные - вещественные или целочисленные данные.\n",
        "\n",
        "Метод `df.info()` показал, что данные не имеют строк, которые сразу принимаются за категориальные признаки. На данный момент все признаки являются числовыми."
      ]
    },
    {
      "cell_type": "code",
      "metadata": {
        "id": "X9FSB01YK1Tu",
        "colab": {
          "base_uri": "https://localhost:8080/"
        },
        "outputId": "831a4084-615c-4d75-8662-8b724ba68aa1"
      },
      "source": [
        "df.nunique()"
      ],
      "execution_count": 12,
      "outputs": [
        {
          "output_type": "execute_result",
          "data": {
            "text/plain": [
              "CRIM       504\n",
              "ZN          26\n",
              "INDUS       76\n",
              "CHAS         2\n",
              "NOX         81\n",
              "RM         446\n",
              "AGE        356\n",
              "DIS        412\n",
              "RAD          9\n",
              "TAX         66\n",
              "PTRATIO     46\n",
              "B          357\n",
              "LSTAT      455\n",
              "PRICE      229\n",
              "dtype: int64"
            ]
          },
          "metadata": {
            "tags": []
          },
          "execution_count": 12
        }
      ]
    },
    {
      "cell_type": "markdown",
      "metadata": {
        "id": "wR4jW6tTLTvi"
      },
      "source": [
        "Признак `CHAS` имеет всего два значения - проверим, какие это значения:"
      ]
    },
    {
      "cell_type": "code",
      "metadata": {
        "id": "Hnz3YoLNoa-c",
        "colab": {
          "base_uri": "https://localhost:8080/"
        },
        "outputId": "db170154-9c92-4bcb-d234-af772c884aa2"
      },
      "source": [
        "df['CHAS'].value_counts()"
      ],
      "execution_count": 13,
      "outputs": [
        {
          "output_type": "execute_result",
          "data": {
            "text/plain": [
              "0.0    471\n",
              "1.0     35\n",
              "Name: CHAS, dtype: int64"
            ]
          },
          "metadata": {
            "tags": []
          },
          "execution_count": 13
        }
      ]
    },
    {
      "cell_type": "markdown",
      "metadata": {
        "id": "Z_5J8IXje_Rw"
      },
      "source": [
        "В данном случае можно рассматривать этот признак как категориальный, который не требует предобработки, так как он уже представлен числом.\n",
        "\n",
        "Тем не менее обновим тип, чтобы в информации он был представлен верно:"
      ]
    },
    {
      "cell_type": "code",
      "metadata": {
        "id": "IgTbwk5IfLGF",
        "colab": {
          "base_uri": "https://localhost:8080/"
        },
        "outputId": "994f50e1-6fc5-440a-d940-01584dddf90c"
      },
      "source": [
        "# Сначала приведем к int, чтобы вместо 0.0 и 1.0 были значения 0 и 1\n",
        "# Затем приведем к типу категорий\n",
        "df['CHAS'] = df['CHAS'].astype(int).astype(dtype='category')\n",
        "\n",
        "df.info()"
      ],
      "execution_count": 14,
      "outputs": [
        {
          "output_type": "stream",
          "text": [
            "<class 'pandas.core.frame.DataFrame'>\n",
            "RangeIndex: 506 entries, 0 to 505\n",
            "Data columns (total 14 columns):\n",
            " #   Column   Non-Null Count  Dtype   \n",
            "---  ------   --------------  -----   \n",
            " 0   CRIM     506 non-null    float64 \n",
            " 1   ZN       506 non-null    float64 \n",
            " 2   INDUS    506 non-null    float64 \n",
            " 3   CHAS     506 non-null    category\n",
            " 4   NOX      506 non-null    float64 \n",
            " 5   RM       506 non-null    float64 \n",
            " 6   AGE      506 non-null    float64 \n",
            " 7   DIS      506 non-null    float64 \n",
            " 8   RAD      506 non-null    float64 \n",
            " 9   TAX      506 non-null    float64 \n",
            " 10  PTRATIO  506 non-null    float64 \n",
            " 11  B        506 non-null    float64 \n",
            " 12  LSTAT    506 non-null    float64 \n",
            " 13  PRICE    506 non-null    float64 \n",
            "dtypes: category(1), float64(13)\n",
            "memory usage: 52.1 KB\n"
          ],
          "name": "stdout"
        }
      ]
    },
    {
      "cell_type": "markdown",
      "metadata": {
        "id": "lCHIiSILfzSX"
      },
      "source": [
        "Остальные данные также можно привести к целочисленным, если они имеют только целочисленные значения, но делать это не обязательно."
      ]
    },
    {
      "cell_type": "markdown",
      "metadata": {
        "id": "Rvy3i8QmoaQJ"
      },
      "source": [
        "\n",
        "\n",
        "Аналогично признак `RAD` имеет всего 9 значений, при этом по определению признака он является индексом, что может допускать в будущем и другие значения данного признака - так как нет явного ограничения, будем считать данный признак численным.\n",
        "\n",
        "> Чаще всего выделение категориальных признаков делается исходя из априорных и предметных знаний, как, например, в анкете выпадающий список с вариантами. В данном датасете все признаки допускают диапазон вещественных/целочисленных значений. По этой причине в данной работе все признаки будут рассмотрены как численные."
      ]
    },
    {
      "cell_type": "markdown",
      "metadata": {
        "id": "sQA3pVjoiWW9"
      },
      "source": [
        "## Поиск и удаление неинформативных признаков"
      ]
    },
    {
      "cell_type": "markdown",
      "metadata": {
        "id": "PJntJXASia8o"
      },
      "source": [
        "Под неинформативными понимаются признаки, которые не несут полезной информации для предсказания. Это могут быть индексы записей в базе данных, полные ФИО пользователей или уникальный идентификатор каждого щеночка в базе. По сути это признаки, которые уникальны для каждой записи, поэтому на базовом этапе они удаляются. На этапе расширенного анализа они могут служить источником новых признаков.\n",
        "\n",
        "В данном наборе данных судя по описанию мы не имеем уникальных для каждой записи признаков, так что удаление признаков не требуется."
      ]
    },
    {
      "cell_type": "markdown",
      "metadata": {
        "id": "2Sjd8nnYgAy2"
      },
      "source": [
        "## Результат\n",
        "\n",
        "По результатам базового анализа и предоработки данные были приведены к числовому виду, так что можно их использовать для обучения базовой модели."
      ]
    },
    {
      "cell_type": "markdown",
      "metadata": {
        "id": "wPDysM-UJheX"
      },
      "source": [
        "# Расширенный анализ данных"
      ]
    },
    {
      "cell_type": "markdown",
      "metadata": {
        "id": "pODVw5o-gQ-8"
      },
      "source": [
        "Расширенный (или описательный) анализ данных (Explanatory Data Analysis ~ EDA) является следующим этапом после построения базовой модели. Нацелен он на расширение знаний о данных, а также увеличение предсказательной способности (точности или требуемой метрики).\n",
        "\n",
        "В качестве этапов можно выделить:\n",
        "- более подходящяя обработка пропусков в данных;\n",
        "- анализ распределений данных, исправление перекосов распределений;\n",
        "- масштабирование значений признаков;\n",
        "- корреляционный анализ;\n",
        "- поиск новых зависимостей и генерация новых признаков;\n",
        "- определение выбросов в данных;\n",
        "- и другие подходы.\n",
        "\n",
        "Сами по себе подходы не обязательно применяются все и разом. Одни подходы могут как улучшить результаты работы модели, так и ухудшить, поэтому данные подходы имеют экспериментальный характер.\n",
        "\n",
        "В данной работе мы рассмотрим некоторые из подходов."
      ]
    },
    {
      "cell_type": "markdown",
      "metadata": {
        "id": "VkI5-wOCirZx"
      },
      "source": [
        "## Анализ распределений"
      ]
    },
    {
      "cell_type": "markdown",
      "metadata": {
        "id": "1pFniuUIWzKI"
      },
      "source": [
        "Анализ распределений заключается в том, чтобы просмотреть распределения численных признаков, понять их характер и необходимость коррекции смещения.\n",
        "\n",
        "Под нормальным (Гауссовым) распределением понимается распределение следующего вида:"
      ]
    },
    {
      "cell_type": "code",
      "metadata": {
        "id": "KIuc5-iPmLOi",
        "colab": {
          "base_uri": "https://localhost:8080/",
          "height": 506
        },
        "outputId": "9f890482-0f2f-41ca-e9b5-b4b2ce6d9a9b"
      },
      "source": [
        "plt.figure(figsize=[10, 7])\n",
        "sns.distplot(df['RM'], bins=20)\n",
        "# Отключение меток на оси Y\n",
        "plt.yticks([])\n",
        "plt.show()"
      ],
      "execution_count": 15,
      "outputs": [
        {
          "output_type": "stream",
          "text": [
            "/usr/local/lib/python3.6/dist-packages/seaborn/distributions.py:2551: FutureWarning: `distplot` is a deprecated function and will be removed in a future version. Please adapt your code to use either `displot` (a figure-level function with similar flexibility) or `histplot` (an axes-level function for histograms).\n",
            "  warnings.warn(msg, FutureWarning)\n"
          ],
          "name": "stderr"
        },
        {
          "output_type": "display_data",
          "data": {
            "image/png": "[encoded data removed]",
            "text/plain": [
              "<Figure size 720x504 with 1 Axes>"
            ]
          },
          "metadata": {
            "tags": [],
            "needs_background": "light"
          }
        }
      ]
    },
    {
      "cell_type": "markdown",
      "metadata": {
        "id": "6FD8uYVKmbwd"
      },
      "source": [
        "Смещение нормального распределения могут быть как левые (хвост находится справа), так и правое (хвост слева):"
      ]
    },
    {
      "cell_type": "code",
      "metadata": {
        "id": "zXWEviAUmbaF",
        "colab": {
          "base_uri": "https://localhost:8080/",
          "height": 429
        },
        "outputId": "07f5542c-69d4-4e5d-ec3c-ec1a88d907c5"
      },
      "source": [
        "_, ax = plt.subplots(nrows=1, ncols=2, figsize=[20, 7])\n",
        "\n",
        "sns.distplot(df['DIS'], ax=ax[0], bins=20)\n",
        "ax[0].title.set_text('Левое смещение')\n",
        "\n",
        "sns.distplot(df['PTRATIO'], ax=ax[1], bins=20)\n",
        "ax[1].title.set_text('Правое смещение')\n",
        "\n",
        "plt.show()"
      ],
      "execution_count": 16,
      "outputs": [
        {
          "output_type": "stream",
          "text": [
            "/usr/local/lib/python3.6/dist-packages/seaborn/distributions.py:2551: FutureWarning: `distplot` is a deprecated function and will be removed in a future version. Please adapt your code to use either `displot` (a figure-level function with similar flexibility) or `histplot` (an axes-level function for histograms).\n",
            "  warnings.warn(msg, FutureWarning)\n",
            "/usr/local/lib/python3.6/dist-packages/seaborn/distributions.py:2551: FutureWarning: `distplot` is a deprecated function and will be removed in a future version. Please adapt your code to use either `displot` (a figure-level function with similar flexibility) or `histplot` (an axes-level function for histograms).\n",
            "  warnings.warn(msg, FutureWarning)\n"
          ],
          "name": "stderr"
        },
        {
          "output_type": "display_data",
          "data": {
            "image/png": "[encoded data removed]",
            "text/plain": [
              "<Figure size 1440x504 with 2 Axes>"
            ]
          },
          "metadata": {
            "tags": [],
            "needs_background": "light"
          }
        }
      ]
    },
    {
      "cell_type": "markdown",
      "metadata": {
        "id": "kDmkVveqn2pV"
      },
      "source": [
        "Распределения могут иметь и бимодальный характер: "
      ]
    },
    {
      "cell_type": "code",
      "metadata": {
        "id": "Z9KwiBZToFLj",
        "colab": {
          "base_uri": "https://localhost:8080/",
          "height": 506
        },
        "outputId": "b5e15220-5a8c-403d-c166-2a388bdc68bf"
      },
      "source": [
        "plt.figure(figsize=[10, 7])\n",
        "sns.distplot(df['RAD'], bins=20)\n",
        "# Отключение меток на оси Y\n",
        "plt.yticks([])\n",
        "plt.show()"
      ],
      "execution_count": 17,
      "outputs": [
        {
          "output_type": "stream",
          "text": [
            "/usr/local/lib/python3.6/dist-packages/seaborn/distributions.py:2551: FutureWarning: `distplot` is a deprecated function and will be removed in a future version. Please adapt your code to use either `displot` (a figure-level function with similar flexibility) or `histplot` (an axes-level function for histograms).\n",
            "  warnings.warn(msg, FutureWarning)\n"
          ],
          "name": "stderr"
        },
        {
          "output_type": "display_data",
          "data": {
            "image/png": "[encoded data removed]",
            "text/plain": [
              "<Figure size 720x504 with 1 Axes>"
            ]
          },
          "metadata": {
            "tags": [],
            "needs_background": "light"
          }
        }
      ]
    },
    {
      "cell_type": "markdown",
      "metadata": {
        "id": "KI2nUG6YpmjI"
      },
      "source": [
        "Анализ распределений нужен во-первых, чтобы понять, как распределены данные по каждому признаку, и во-вторых, для понимания того, какие распределения требуют коррекции. Модель линейной регрессии чувствительна к тому, как данные распределены, поэтому коррекция смещения может помочь увеличить показатели работы модели. \n",
        "\n",
        "> Для этого `sklearn` имеет метод степенной коррекции `sklearn.preprocessing.PowerTransformer` и метод коррекции квантилями `sklearn.preprocessing.QuantileTransformer`."
      ]
    },
    {
      "cell_type": "markdown",
      "metadata": {
        "id": "Yk1QKfvOiugo"
      },
      "source": [
        "## Корреляционный анализ"
      ]
    },
    {
      "cell_type": "markdown",
      "metadata": {
        "id": "iGJfCSMJc3Yx"
      },
      "source": [
        "Корреляционный анализ важен для оценки того, как данные взаимосвязаны. В этом поможет функция отображения коэффициентов корреляции `DataFrame.corr()`. Корреляционный анализ позволит понять, какие переменные имеют связь с целевой переменной, что полезно для выбора признаков для обучения.\n"
      ]
    },
    {
      "cell_type": "code",
      "metadata": {
        "id": "BTD8IUm_X2I0",
        "colab": {
          "base_uri": "https://localhost:8080/",
          "height": 173
        },
        "outputId": "34bd42c5-1787-4030-dccf-548db4f8f0fa"
      },
      "source": [
        "# Для примера выберем следующие признаки\n",
        "features = ['CRIM', 'NOX', 'RM', 'PRICE']\n",
        "\n",
        "correlation_mtrx = df[features].corr()\n",
        "correlation_mtrx"
      ],
      "execution_count": 18,
      "outputs": [
        {
          "output_type": "execute_result",
          "data": {
            "text/html": [
              "<div>\n",
              "<style scoped>\n",
              "    .dataframe tbody tr th:only-of-type {\n",
              "        vertical-align: middle;\n",
              "    }\n",
              "\n",
              "    .dataframe tbody tr th {\n",
              "        vertical-align: top;\n",
              "    }\n",
              "\n",
              "    .dataframe thead th {\n",
              "        text-align: right;\n",
              "    }\n",
              "</style>\n",
              "<table border=\"1\" class=\"dataframe\">\n",
              "  <thead>\n",
              "    <tr style=\"text-align: right;\">\n",
              "      <th></th>\n",
              "      <th>CRIM</th>\n",
              "      <th>NOX</th>\n",
              "      <th>RM</th>\n",
              "      <th>PRICE</th>\n",
              "    </tr>\n",
              "  </thead>\n",
              "  <tbody>\n",
              "    <tr>\n",
              "      <th>CRIM</th>\n",
              "      <td>1.000000</td>\n",
              "      <td>0.420972</td>\n",
              "      <td>-0.219247</td>\n",
              "      <td>-0.388305</td>\n",
              "    </tr>\n",
              "    <tr>\n",
              "      <th>NOX</th>\n",
              "      <td>0.420972</td>\n",
              "      <td>1.000000</td>\n",
              "      <td>-0.302188</td>\n",
              "      <td>-0.427321</td>\n",
              "    </tr>\n",
              "    <tr>\n",
              "      <th>RM</th>\n",
              "      <td>-0.219247</td>\n",
              "      <td>-0.302188</td>\n",
              "      <td>1.000000</td>\n",
              "      <td>0.695360</td>\n",
              "    </tr>\n",
              "    <tr>\n",
              "      <th>PRICE</th>\n",
              "      <td>-0.388305</td>\n",
              "      <td>-0.427321</td>\n",
              "      <td>0.695360</td>\n",
              "      <td>1.000000</td>\n",
              "    </tr>\n",
              "  </tbody>\n",
              "</table>\n",
              "</div>"
            ],
            "text/plain": [
              "           CRIM       NOX        RM     PRICE\n",
              "CRIM   1.000000  0.420972 -0.219247 -0.388305\n",
              "NOX    0.420972  1.000000 -0.302188 -0.427321\n",
              "RM    -0.219247 -0.302188  1.000000  0.695360\n",
              "PRICE -0.388305 -0.427321  0.695360  1.000000"
            ]
          },
          "metadata": {
            "tags": []
          },
          "execution_count": 18
        }
      ]
    },
    {
      "cell_type": "markdown",
      "metadata": {
        "id": "nekteOlQd9H7"
      },
      "source": [
        "При этом отображение численных значений часто сложно для восприятия, поэтому проще отобразить данные в виде представления тепловой карты с помощью функции `heatmap()`."
      ]
    },
    {
      "cell_type": "code",
      "metadata": {
        "id": "EtscB-1ndeuv",
        "colab": {
          "base_uri": "https://localhost:8080/",
          "height": 619
        },
        "outputId": "e998f678-47af-4783-b2b7-3e2f284cd967"
      },
      "source": [
        "# Два дополнительных аргумента добавляют числа на график и указывают формат вывода данных\n",
        "sns.heatmap(correlation_mtrx, annot=True, fmt='.2f')"
      ],
      "execution_count": 19,
      "outputs": [
        {
          "output_type": "execute_result",
          "data": {
            "text/plain": [
              "<AxesSubplot:>"
            ]
          },
          "metadata": {
            "tags": []
          },
          "execution_count": 19
        },
        {
          "output_type": "display_data",
          "data": {
            "image/png": "[encoded data removed]",
            "text/plain": [
              "<Figure size 1080x720 with 2 Axes>"
            ]
          },
          "metadata": {
            "tags": [],
            "needs_background": "light"
          }
        }
      ]
    },
    {
      "cell_type": "markdown",
      "metadata": {
        "id": "0G9JSj9ze4Hl"
      },
      "source": [
        "Корреляционный анализ несет следующую полезную информацию - из выбранных признаков `RM` с целевой переменной `PRICE`, так как значение по модулю \"достаточно высокое\" (приблизительно больше 0.6).\n"
      ]
    },
    {
      "cell_type": "markdown",
      "metadata": {
        "id": "Bu6DvbyxwAsU"
      },
      "source": [
        "### Визуальная оценка"
      ]
    },
    {
      "cell_type": "markdown",
      "metadata": {
        "id": "HZoPCPshxywp"
      },
      "source": [
        "После определения признаков, которые имеют высокую корреляцию, важно также посмотреть на распределение данных, так как показатель корреляции не сообщает о характере зависимости или о том, как данные распределены:"
      ]
    },
    {
      "cell_type": "code",
      "metadata": {
        "id": "bY47_WRO9hW2",
        "colab": {
          "base_uri": "https://localhost:8080/",
          "height": 451
        },
        "outputId": "f768cfb9-5968-4e63-c124-666db9aebc7e"
      },
      "source": [
        "sns.jointplot(x=\"RM\", y=\"PRICE\", data=df)"
      ],
      "execution_count": 20,
      "outputs": [
        {
          "output_type": "execute_result",
          "data": {
            "text/plain": [
              "<seaborn.axisgrid.JointGrid at 0x7fc4b84f54a8>"
            ]
          },
          "metadata": {
            "tags": []
          },
          "execution_count": 20
        },
        {
          "output_type": "display_data",
          "data": {
            "image/png": "[encoded data removed]",
            "text/plain": [
              "<Figure size 432x432 with 3 Axes>"
            ]
          },
          "metadata": {
            "tags": [],
            "needs_background": "light"
          }
        }
      ]
    },
    {
      "cell_type": "markdown",
      "metadata": {
        "id": "2ri3Ou7xzQhU"
      },
      "source": [
        "Как видно на графике, данные действительно имеют корреляцию: признак `RM` соответствует линейной зависимости.\n",
        "\n",
        "> Сама по себе визуальная оценка взаимосвязи данных очень важна, так как по ней можно определить наличие зависимостей, при том, что показатель корреляции ориентируется лишь на линейную зависимость."
      ]
    },
    {
      "cell_type": "markdown",
      "metadata": {
        "id": "iRpsgljdx4cD"
      },
      "source": [
        "## Обработка выборосов данных"
      ]
    },
    {
      "cell_type": "markdown",
      "metadata": {
        "id": "Lo9M-tunx-lV"
      },
      "source": [
        "По ранее представленному графику важно отметить аномальное распределение точек по линии `PRICE = 50`, что говорит о возможных выбросах в данных. Такое же поведение видно и в графике распределения данных признака `PRICE`, что выражается в небольшой правой моде.\n",
        "\n",
        "Для оценки количества возможных выбросов выберем данные, которые соответсвуют `PRICE = 50`."
      ]
    },
    {
      "cell_type": "code",
      "metadata": {
        "id": "C6IsTPVK7VLP",
        "colab": {
          "base_uri": "https://localhost:8080/"
        },
        "outputId": "5e01df7e-fd49-4438-f5d7-66204f3fc4e3"
      },
      "source": [
        "outliers_count = df[df['PRICE'] == 50].shape[0]\n",
        "\n",
        "print(outliers_count)\n",
        "print(outliers_count/df.shape[0]*100)"
      ],
      "execution_count": 21,
      "outputs": [
        {
          "output_type": "stream",
          "text": [
            "16\n",
            "3.1620553359683794\n"
          ],
          "name": "stdout"
        }
      ]
    },
    {
      "cell_type": "markdown",
      "metadata": {
        "id": "2rzcO-4N7eMa"
      },
      "source": [
        "Оценка количества возможных выбросов (16 записей) показывает, что они составляют около трех процентов от всего количества данных, что не скажется на дальнейшей работе при их **исключении** из данных."
      ]
    },
    {
      "cell_type": "markdown",
      "metadata": {
        "id": "ryMJXIKZyQLT"
      },
      "source": [
        "## Результат"
      ]
    },
    {
      "cell_type": "markdown",
      "metadata": {
        "id": "SiPAWs8_imhE"
      },
      "source": [
        "По примерам методов анализа уже видно, что данные имеют стороны, которые можно постараться скорректировать, что может положительно сказаться на показателях работы модели."
      ]
    },
    {
      "cell_type": "markdown",
      "metadata": {
        "id": "-b5qGoMLjZHS"
      },
      "source": [
        "# Разработка и оценка модели"
      ]
    },
    {
      "cell_type": "markdown",
      "metadata": {
        "id": "9ZA61c7FCA9R"
      },
      "source": [
        "## Разделение данных"
      ]
    },
    {
      "cell_type": "markdown",
      "metadata": {
        "id": "PFwIRqWTjci4"
      },
      "source": [
        "Перед тем, как переходить к модели, требуется сделать разделение обраотанных данных на выборки для обучения и тестирования. Для этого воспользуется функцией `train_test_split()`.\n",
        "\n",
        "> В ходе работы с данными важно сохранять свойство повторяемости. Для этого в функциях, использующих случайные генераторы, нужно использовать зафиксированное состояние генератора случайных чисел."
      ]
    },
    {
      "cell_type": "code",
      "metadata": {
        "id": "v3p9m1Xqdzju",
        "colab": {
          "base_uri": "https://localhost:8080/"
        },
        "outputId": "ea33821d-9f3a-44dc-c2eb-176933bdc7eb"
      },
      "source": [
        "from sklearn.model_selection import train_test_split\n",
        "\n",
        "# 70% - для обучения, 30% - для тестов\n",
        "TRAIN_RATIO = 0.7\n",
        "\n",
        "# X - DataFrame только с признаками (для примера берем все признаки)\n",
        "X = df[feature_names]\n",
        "# y - истинные значения (разметка)\n",
        "y = df['PRICE']\n",
        "\n",
        "X_train, X_test, y_train, y_test = train_test_split(\n",
        "    # Передаются наборы, которые будут разделены в соответсвии с параметрами\n",
        "    X, y, \n",
        "    # Задается размер обучающей выборки\n",
        "    train_size=TRAIN_RATIO, \n",
        "    # Фиксируется состояние генератора случайных чисел \n",
        "    #   для сохранения повторяемости\n",
        "    random_state=RANDOM_STATE\n",
        ")\n",
        "\n",
        "# Отображение размеров выборок\n",
        "print(X_train.shape, y_train.shape)\n",
        "print(X_test.shape, y_test.shape)"
      ],
      "execution_count": 22,
      "outputs": [
        {
          "output_type": "stream",
          "text": [
            "(354, 13) (354,)\n",
            "(152, 13) (152,)\n"
          ],
          "name": "stdout"
        }
      ]
    },
    {
      "cell_type": "markdown",
      "metadata": {
        "id": "szndXZt2B4Mu"
      },
      "source": [
        "## Применение классов моделей"
      ]
    },
    {
      "cell_type": "markdown",
      "metadata": {
        "id": "S6imFysElzMJ"
      },
      "source": [
        "После того, как данные подготовлены, настало время создания модели, обучения и проверки.\n",
        "\n",
        "Начнем с создания модели линейной регрессии и ее обучения с помощью метода `fit()`."
      ]
    },
    {
      "cell_type": "code",
      "metadata": {
        "id": "EwlqbYr9lIft",
        "colab": {
          "base_uri": "https://localhost:8080/"
        },
        "outputId": "4a32fc85-b1fe-4bf1-a41f-d5894846cee9"
      },
      "source": [
        "from sklearn.linear_model import LinearRegression\n",
        "\n",
        "# Создаем объект\n",
        "reg = LinearRegression()\n",
        "# Обучаем на выборке для обучения\n",
        "reg.fit(X_train, y_train)"
      ],
      "execution_count": 23,
      "outputs": [
        {
          "output_type": "execute_result",
          "data": {
            "text/plain": [
              "LinearRegression(copy_X=True, fit_intercept=True, n_jobs=None, normalize=False)"
            ]
          },
          "metadata": {
            "tags": []
          },
          "execution_count": 23
        }
      ]
    },
    {
      "cell_type": "markdown",
      "metadata": {
        "id": "TRIN5-DPcBCx"
      },
      "source": [
        "Для случая линейной регрессии обученная модель имеет веса для каждого признака. Объект класса `LinearRegression` позволяет получить эти веса и смещение путем обращения к атрибутам `.coef_` (веса признаков) и `.intercept_` (константное смещение, нулевой коэффициент). С аттрибутами класса модели линейной регрессии можно ознакомиться в справке здесь или на сайте https://scikit-learn.org/stable/modules/generated/sklearn.linear_model.LinearRegression.html."
      ]
    },
    {
      "cell_type": "code",
      "metadata": {
        "id": "M4uPf5ODcAmJ",
        "colab": {
          "base_uri": "https://localhost:8080/"
        },
        "outputId": "265cd96c-763b-43c0-9b52-1e3a48c1fbc1"
      },
      "source": [
        "# Для отображения весов создадим функцию\n",
        "def show_linear_model_weights(model, feature_names=None):\n",
        "    '''\n",
        "    Отображение весов\n",
        "    Аргументы:\n",
        "        model - модель линейной регрессии\n",
        "        feature_names - (опционально) если передано, отображение весов вместе с именами признаков\n",
        "    '''\n",
        "    print('\\n----- Weights -----')\n",
        "    weights = model.coef_\n",
        "    bias = model.intercept_\n",
        "    if feature_names is None:  \n",
        "        print(f'Weights: {weights}')\n",
        "    else:\n",
        "        # Функция zip() делает из двух списков один список пар значений\n",
        "        pairs = zip(feature_names, weights)\n",
        "        for pair in pairs:\n",
        "            print(f'{pair[0]} | {pair[1]}')\n",
        "\n",
        "    print(f'Bias: {bias}')\n",
        "\n",
        "show_linear_model_weights(reg, X_train.columns)"
      ],
      "execution_count": 24,
      "outputs": [
        {
          "output_type": "stream",
          "text": [
            "\n",
            "----- Weights -----\n",
            "CRIM | -0.1334701028529461\n",
            "ZN | 0.03580891359323195\n",
            "INDUS | 0.04952264522005543\n",
            "CHAS | 3.119835116285394\n",
            "NOX | -15.417060895306689\n",
            "RM | 4.057199231645403\n",
            "AGE | -0.010820835184926221\n",
            "DIS | -1.3859982431608788\n",
            "RAD | 0.24272733982224926\n",
            "TAX | -0.00870223436566183\n",
            "PTRATIO | -0.9106852081102881\n",
            "B | 0.011794115892575632\n",
            "LSTAT | -0.5471133128239569\n",
            "Bias: 31.631084035691632\n"
          ],
          "name": "stdout"
        }
      ]
    },
    {
      "cell_type": "markdown",
      "metadata": {
        "id": "pMTR7DiT5T6-"
      },
      "source": [
        "Каждый вес соответсвует коэффициенту, на который умножается значение признака, чтобы получить конечное значение предсказания. Так как данные не нормированны, мы не можем говорить о том, что данные веса отражают степень влияния признаков."
      ]
    },
    {
      "cell_type": "markdown",
      "metadata": {
        "id": "Bw3n23GumaM0"
      },
      "source": [
        "Для начала отобразим график предсказаний и посмотрим, как распределяются на линии пресказания. Для получения предсказания модели используется метод `predict()`."
      ]
    },
    {
      "cell_type": "code",
      "metadata": {
        "id": "NDeIQeeQy6xx",
        "colab": {
          "base_uri": "https://localhost:8080/",
          "height": 577
        },
        "outputId": "5cf9d128-ee1e-4ab7-bdbe-47989722633c"
      },
      "source": [
        "def draw_predictions_plot(y_pred, y_true):\n",
        "    plt.scatter(y_pred, y_true)\n",
        "    line_pnts = np.linspace(np.amin(y_pred)-0.1, np.amax(y_pred)+0.1, 1000)\n",
        "    plt.plot(line_pnts, line_pnts, 'k--', lw=2)\n",
        "    plt.xlabel('Predicted')\n",
        "    plt.ylabel('True')\n",
        "    plt.grid()\n",
        "\n",
        "y_pred = reg.predict(X_test)\n",
        "draw_predictions_plot(y_pred, y_test)"
      ],
      "execution_count": 25,
      "outputs": [
        {
          "output_type": "display_data",
          "data": {
            "image/png": "[encoded data removed]",
            "text/plain": [
              "<Figure size 1080x720 with 1 Axes>"
            ]
          },
          "metadata": {
            "tags": [],
            "needs_background": "light"
          }
        }
      ]
    },
    {
      "cell_type": "markdown",
      "metadata": {
        "id": "5iFBntEOy7Uv"
      },
      "source": [
        "Прямая на графике означает точки, в которых предсказанные значения соответствуют действительным.\n",
        "Как видно на графике, многие точки отклоняются от прямой, но наблюдается общая распределенность точек вокруг линии.\n"
      ]
    },
    {
      "cell_type": "markdown",
      "metadata": {
        "id": "b2_ejlyX5pvN"
      },
      "source": [
        "Помимо отображения точек предсказаний важно также оценить распределение ошибок, что может сказать о возможном смещении результатов."
      ]
    },
    {
      "cell_type": "code",
      "metadata": {
        "id": "aOrU_W4p50ZE",
        "colab": {
          "base_uri": "https://localhost:8080/",
          "height": 619
        },
        "outputId": "bf3d1a20-ef09-4b88-a5f4-1b965301c260"
      },
      "source": [
        "y_residuals = y_pred-y_test\n",
        "sns.distplot(y_residuals, bins=50)\n",
        "plt.grid()"
      ],
      "execution_count": 26,
      "outputs": [
        {
          "output_type": "stream",
          "text": [
            "/usr/local/lib/python3.6/dist-packages/seaborn/distributions.py:2551: FutureWarning: `distplot` is a deprecated function and will be removed in a future version. Please adapt your code to use either `displot` (a figure-level function with similar flexibility) or `histplot` (an axes-level function for histograms).\n",
            "  warnings.warn(msg, FutureWarning)\n"
          ],
          "name": "stderr"
        },
        {
          "output_type": "display_data",
          "data": {
            "image/png": "[encoded data removed]",
            "text/plain": [
              "<Figure size 1080x720 with 1 Axes>"
            ]
          },
          "metadata": {
            "tags": [],
            "needs_background": "light"
          }
        }
      ]
    },
    {
      "cell_type": "markdown",
      "metadata": {
        "id": "9gtXHZpi6HUD"
      },
      "source": [
        "Из графика распределения видно, что распределение имеет нормальный характер и центр распределения располагается возле значения 0. При этом имеются единичные отклонения, которые могут характеризоваться выбросами в данных, которые обсуждались ранее."
      ]
    },
    {
      "cell_type": "markdown",
      "metadata": {
        "id": "D49pNhDp6CHJ"
      },
      "source": [
        "\n",
        "После представления точек предсказания важно также оценить численные характеристики. Для этого используются различные метрики. Мы воспользуемся наиболее распространенными: R2, Root Mean Squared Error (RMSE), Mean Absolute Error (MAE). "
      ]
    },
    {
      "cell_type": "code",
      "metadata": {
        "id": "rIj0bbMSmK6L",
        "colab": {
          "base_uri": "https://localhost:8080/"
        },
        "outputId": "8d597f5a-3cfa-4a8a-ba8e-854fb13be3d2"
      },
      "source": [
        "from sklearn.metrics import mean_squared_error, mean_absolute_error, r2_score\n",
        "\n",
        "# При повторении кода лучшей практикой является создание функции \n",
        "#   для исключения дублирований\n",
        "# Дублирование кода -> ошибки\n",
        "def evaluate_regressor(reg, X, y, mode):\n",
        "    y_pred = reg.predict(X)\n",
        "    r2_score_value = r2_score(y, y_pred)\n",
        "    rmse_score = np.sqrt(mean_squared_error(y, y_pred))\n",
        "    mae_score = mean_absolute_error(y, y_pred)\n",
        "\n",
        "    print(f'\\n----- Evaluation for {mode} -----')\n",
        "    print(f'  R2: {r2_score_value}')\n",
        "    print(f'  RMSE: {rmse_score}')\n",
        "    print(f'  MAE: {mae_score}')\n",
        "\n",
        "evaluate_regressor(reg, X_train, y_train, 'train')\n",
        "evaluate_regressor(reg, X_test, y_test, 'test')"
      ],
      "execution_count": 27,
      "outputs": [
        {
          "output_type": "stream",
          "text": [
            "\n",
            "----- Evaluation for train -----\n",
            "  R2: 0.7434997532004697\n",
            "  RMSE: 4.748208239685937\n",
            "  MAE: 3.356826782168207\n",
            "\n",
            "----- Evaluation for test -----\n",
            "  R2: 0.7112260057484874\n",
            "  RMSE: 4.638689926172867\n",
            "  MAE: 3.1627098714574537\n"
          ],
          "name": "stdout"
        }
      ]
    },
    {
      "cell_type": "markdown",
      "metadata": {
        "id": "gpu--de3qtaf"
      },
      "source": [
        "По результатам обучения и оценки мы получили **baseline** модель - это модель, которая требует минимум затрат сил и времени для получения первого результата. В данном случае были поданы все данные без очистки и предобработки. Последующие эксперименты нацелены на улучшение показателей (уменьшение MSE, MAE показателей или увеличение R2). "
      ]
    },
    {
      "cell_type": "markdown",
      "metadata": {
        "id": "SZOJ29ONi3y3"
      },
      "source": [
        "## Применение классов трансформации"
      ]
    },
    {
      "cell_type": "markdown",
      "metadata": {
        "id": "tOEaUURZxziL"
      },
      "source": [
        "Одной из базовых практик предобработки численных переменных является **стандартизация**. Это процесс приведения распределения к нулевому среднему и единичному стандартному отклонению.\n",
        "\n",
        "Для стандартизации данных применим класс `StandartScaler`, который в ходе обучения определяет среднее и стандартное отклонение каждого признака и далее применяет их в ходе использования модели.\n",
        "https://scikit-learn.org/stable/modules/generated/sklearn.preprocessing.StandardScaler.html.\n",
        "\n",
        "При использовании стандартизации происходит определение необходимых параметров (среднее, стандартное отклонение) методом `fit()` и дальнейшая предобработка данных методом `transform()`."
      ]
    },
    {
      "cell_type": "code",
      "metadata": {
        "id": "qZiQ8H-OoJ4t",
        "colab": {
          "base_uri": "https://localhost:8080/"
        },
        "outputId": "650e4381-b21e-482a-c82e-87016fcbc8ff"
      },
      "source": [
        "from sklearn.preprocessing import StandardScaler\n",
        "\n",
        "scaler = StandardScaler()\n",
        "reg = LinearRegression()\n",
        "\n",
        "# \"Обучение\" трансформера - определение параметров средних и отклонений\n",
        "scaler.fit(X_train)\n",
        "\n",
        "# Стандартизация данных\n",
        "X_train_scaled = scaler.transform(X_train)\n",
        "X_test_scaled = scaler.transform(X_test)\n",
        "\n",
        "reg.fit(X_train_scaled, y_train)\n",
        "show_linear_model_weights(reg, X_train.columns)"
      ],
      "execution_count": 28,
      "outputs": [
        {
          "output_type": "stream",
          "text": [
            "\n",
            "----- Weights -----\n",
            "CRIM | -1.108346015417754\n",
            "ZN | 0.8084399775400835\n",
            "INDUS | 0.3431346557047933\n",
            "CHAS | 0.8138642573885838\n",
            "NOX | -1.7980429490588932\n",
            "RM | 2.9138579955497654\n",
            "AGE | -0.2989391755039209\n",
            "DIS | -2.9425114769806915\n",
            "RAD | 2.094193030043761\n",
            "TAX | -1.447067312811984\n",
            "PTRATIO | -2.05232232408682\n",
            "B | 1.0237518746405991\n",
            "LSTAT | -3.8857900211493894\n",
            "Bias: 23.01581920903955\n"
          ],
          "name": "stdout"
        }
      ]
    },
    {
      "cell_type": "markdown",
      "metadata": {
        "id": "QtMuezxw1Y_T"
      },
      "source": [
        "Важно обратить внимание на порядок весов модели. Использование стандартизации делает данные более центрированными и теперь веса больше отражают влияние на результат."
      ]
    },
    {
      "cell_type": "code",
      "metadata": {
        "id": "OuUi0pZq0ev1",
        "colab": {
          "base_uri": "https://localhost:8080/"
        },
        "outputId": "7039c98f-b2fd-4d77-9f17-9e030f32c236"
      },
      "source": [
        "# Отображаем средние значения и стандартные отклонения\n",
        "# Количество значений соответствует количеству признаков\n",
        "means = scaler.mean_\n",
        "stds = scaler.var_\n",
        "\n",
        "pairs = zip(X_test.columns, means, stds)\n",
        "for pair in pairs:\n",
        "    print(f'{pair[0]} | Mean: {pair[1]} | Std: {pair[2]}')"
      ],
      "execution_count": 29,
      "outputs": [
        {
          "output_type": "stream",
          "text": [
            "CRIM | Mean: 3.4698868644067797 | Std: 68.95769533571193\n",
            "ZN | Mean: 11.403954802259888 | Std: 509.69840243863507\n",
            "INDUS | Mean: 11.133050847457625 | Std: 48.00887148329024\n",
            "CHAS | Mean: 0.07344632768361582 | Std: 0.06805196463340676\n",
            "NOX | Mean: 0.5572593220338984 | Std: 0.013601817610839798\n",
            "RM | Mean: 6.325672316384181 | Std: 0.5158032768042389\n",
            "AGE | Mean: 68.7997175141243 | Std: 763.2100846659645\n",
            "DIS | Mean: 3.7658740112994353 | Std: 4.507242983448881\n",
            "RAD | Mean: 9.437853107344633 | Std: 74.43822815921351\n",
            "TAX | Mean: 407.04237288135596 | Std: 27651.323063295986\n",
            "PTRATIO | Mean: 18.277966101694915 | Std: 5.078723546873504\n",
            "B | Mean: 359.70180790960455 | Std: 7534.572880912254\n",
            "LSTAT | Mean: 12.421129943502825 | Std: 50.443369909668355\n"
          ],
          "name": "stdout"
        }
      ]
    },
    {
      "cell_type": "markdown",
      "metadata": {
        "id": "BClJN62_5jKp"
      },
      "source": [
        "В результате работы с данными и применения различных методов обработки данных были получены базовые модели, описанные показателями метрик точности работы модели. На этом этапе мы кратко освоили базовые приемы, которые позволят провести исследование, предлагаемое в задании."
      ]
    },
    {
      "cell_type": "markdown",
      "metadata": {
        "id": "NvXSPUuHNexH"
      },
      "source": [
        "# Регуляризация"
      ]
    },
    {
      "cell_type": "markdown",
      "metadata": {
        "id": "GhHZI6Gx-ThD"
      },
      "source": [
        "Помимо базового метода линейной регрессии существуют различные модификации. Одной из таких модификаций является метод Ридж (Ridge) регрессии. Основная идея Ридж регресси заключается в добавлении регуляризации по L2 норме. Функция потерь с Ридж регуляризацией выглядит следующим образом $$J=\\|y-X^TW\\|^2_2+\\alpha*\\|W\\|^2_2$$\n",
        "\n",
        "Как видно из функции потерь, минимизация происходит также с учетом величины значений весов, что и является регуляризацией. Регуляризация влияет на обучение путем удержания величины весов для исключения слишком сильного влияния признаков на работу модели, что на практике приводит к некорректным результатам."
      ]
    },
    {
      "cell_type": "markdown",
      "metadata": {
        "id": "hkRZfmJt5hEn"
      },
      "source": [
        "# Задание"
      ]
    },
    {
      "cell_type": "markdown",
      "metadata": {
        "id": "W4o6uYGX6BPZ"
      },
      "source": [
        "Требуется создать ноутбук, в котором будут проведены эксперименты с инструментами `sklearn`.\n",
        "\n",
        "Задачи:\n",
        "* Произведите базовую подготовку данных;\n",
        "* Создайте baseline модель линейной регрессии;\n",
        "---\n",
        "* Произведите расширенный анализ данных:\n",
        "    - Оцените корреляции признаков;\n",
        "    - Оцените распределения признаков;\n",
        "    - Оцените характер зависимости целевой переменной от каждого признака;\n",
        "    - Напишите свои выводы по результатам анализа.\n",
        "\n",
        "* Изучите работу инструментов нормализации данных:\n",
        "    - Примените трансформер `sklearn.preprocessing.StandardScaler` к данным, отобразите распределения после обработки, обучите модель на обработанных данных и оцените показатели;\n",
        "    - Примените трансформер `sklearn.preprocessing.MinMaxScaler` к данным, отобразите распределения после обработки, обучите модель на обработанных данных и оцените показатели;\n",
        "    - Сравните результаты и сделайте выводы.\n",
        "\n",
        "* Изучите работу инструментов выравнивания распределений:\n",
        "    - Примените трансформер `sklearn.preprocessing.PowerTransformer` к данным, отобразите распределения после обработки, обучите модель на обработанных данных и оцените показатели;\n",
        "    - Примените трансформер `sklearn.preprocessing.QuantileTransformer(output_distribution='normal')` к данным, отобразите распределения после обработки, обучите модель на обработанных данных и оцените показатели;\n",
        "    - Сравните результаты и сделайте выводы.\n",
        "\n",
        "* Исключите выбросы на уровне `PRICE == 50` из данных, обучите модель и оцените показатели;\n",
        "\n",
        "* Оцените работу модели при исключении каждого признака [13 экспериментов] (результаты представить в виде таблицы `DataFrame` с указание исключенного признака и показателей метрик);\n",
        "\n",
        "* Примените трансформер `sklearn.preprocessing.PolynomialFeatures` для генерации признака `LSTAT` в квадрате, обучите модель на данных с новым признаком, оцените работу модели;\n",
        "\n",
        "---\n",
        "* Создайте базовую модель Ридж регрессии https://scikit-learn.org/stable/modules/generated/sklearn.linear_model.Ridge.html;\n",
        "\n",
        "* Испытайте работу модели при использовании различных методов нормализации и выравнивания распределений;\n",
        "\n",
        "* Оцените работу модели при различных $\\alpha$ (изучить не менее 7 различных значений) и отобразите на графике (y-axis ~ R2, x-axis ~ log(alpha));\n",
        "\n",
        "---\n",
        "* Разработайте лучшую модель с необходимой предобработкой для решения задачи;\n",
        "* Написать выводы по результатам.\n",
        "\n",
        "> **Не забывайте разбивать ноутбук на секции, использовать функции, делать выполнение ноутбука последовательным.** "
      ]
    },
    {
      "cell_type": "markdown",
      "metadata": {
        "id": "vsFFXj4Bfuif"
      },
      "source": [
        "# Вопросы\n",
        "\n",
        "- Какую задачу выполняет `QuantileTransformer`?\n",
        "- За что отвечает аргумент конструктора `output_distribution` класса `QuantileTransformer`?\n",
        "- В чем отличие Ридж регрессии от линейной регрессии?\n",
        "- Что такое регуляризация?\n",
        "- Как сказывается станартизация данных на результатах обучения с использованием регуляризации?\n",
        "- В каких случаях нужно применять `StandardScaler`, а в каких `MinmaxScaler`?\n",
        "- Как сказывается применение `QuantileTransformer` на результатах обучения с использованием регуляризации?\n",
        "- Как влияет значение $\\alpha$ на результаты обучения Ридж регрессии?"
      ]
    },
    {
      "cell_type": "code",
      "metadata": {
        "id": "Lpj9A5j7e5Wo"
      },
      "source": [
        ""
      ],
      "execution_count": 29,
      "outputs": []
    }
  ]
}